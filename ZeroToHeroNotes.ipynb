{
 "cells": [
  {
   "cell_type": "markdown",
   "id": "9f9df823-ef2c-4051-a6d1-146da237eea6",
   "metadata": {},
   "source": [
    "In the first lesson called: `The spelled-out intro to neural networks and backpropagation: building micrograd` Andrej builds a Neural Network library from scratch. He starts with this abstraction called as `Value` that originally stores only a scalar value but then gradually builds to hold an entire mathematical expression like: `L = ax1 + bx2 + z`"
   ]
  },
  {
   "cell_type": "markdown",
   "id": "46df5748-4e84-4227-92fb-c9ef3509752f",
   "metadata": {},
   "source": [
    "Then gradually, he introduces the concepts of derivatives/gradients. Eventually, he shows how you can calculate the gradient for every variable with respect to the output, in the case of NN it is the loss function. "
   ]
  },
  {
   "cell_type": "code",
   "execution_count": null,
   "id": "1254c45b-5ae4-48de-907e-ee6a597d7fd6",
   "metadata": {},
   "outputs": [],
   "source": []
  }
 ],
 "metadata": {
  "kernelspec": {
   "display_name": "Python 3 (ipykernel)",
   "language": "python",
   "name": "python3"
  },
  "language_info": {
   "codemirror_mode": {
    "name": "ipython",
    "version": 3
   },
   "file_extension": ".py",
   "mimetype": "text/x-python",
   "name": "python",
   "nbconvert_exporter": "python",
   "pygments_lexer": "ipython3",
   "version": "3.8.9"
  }
 },
 "nbformat": 4,
 "nbformat_minor": 5
}
